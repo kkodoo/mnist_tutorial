{
 "cells": [
  {
   "cell_type": "markdown",
   "metadata": {},
   "source": [
    "# Keras Tutorial"
   ]
  },
  {
   "cell_type": "markdown",
   "metadata": {},
   "source": [
    "Keras is a popular deep learning framework and it's easy to get started."
   ]
  },
  {
   "cell_type": "code",
   "execution_count": 1,
   "metadata": {},
   "outputs": [
    {
     "name": "stderr",
     "output_type": "stream",
     "text": [
      "Using TensorFlow backend.\n"
     ]
    }
   ],
   "source": [
    "import keras\n",
    "from keras.datasets import mnist\n",
    "from keras.models import Sequential\n",
    "from keras.layers import Dense, Dropout, Flatten, Conv2D, MaxPooling2D\n",
    "\n",
    "BATCH_SIZE = 128\n",
    "NUM_CLASSES = 10\n",
    "NUM_EPOCHS = 10"
   ]
  },
  {
   "cell_type": "markdown",
   "metadata": {},
   "source": [
    "First, we read the mnist data and preprocess them."
   ]
  },
  {
   "cell_type": "code",
   "execution_count": 2,
   "metadata": {},
   "outputs": [],
   "source": [
    "# download and load the data (split them between train and test sets)\n",
    "(x_train, y_train), (x_test, y_test) = mnist.load_data()\n",
    "\n",
    "# expand the channel dimension\n",
    "x_train = x_train.reshape(x_train.shape[0], 28, 28, 1)\n",
    "x_test = x_test.reshape(x_test.shape[0], 28, 28, 1)\n",
    "input_shape = (28, 28, 1)\n",
    "\n",
    "# make the value of pixels from [0, 255] to [0, 1] for further process\n",
    "x_train = x_train.astype('float32') / 255.\n",
    "x_test = x_test.astype('float32') / 255.\n",
    "\n",
    "# convert class vectors to binary class matrics\n",
    "y_train = keras.utils.to_categorical(y_train, NUM_CLASSES)\n",
    "y_test = keras.utils.to_categorical(y_test, NUM_CLASSES)"
   ]
  },
  {
   "cell_type": "markdown",
   "metadata": {},
   "source": [
    "Then, we define the model, object function and optimizer that we use to classify."
   ]
  },
  {
   "cell_type": "code",
   "execution_count": 3,
   "metadata": {},
   "outputs": [],
   "source": [
    "# define the model\n",
    "model = Sequential()\n",
    "#序贯模型\n",
    "model.add(Conv2D(32, (3, 3), activation='relu', padding='same', data_format='channels_last',name='layer1_con1',input_shape=(28, 28, 1)))\n",
    "#卷积层\n",
    "model.add(Conv2D(32, (3, 3), activation='relu', padding='same', data_format='channels_last',name='layer1_con2'))\n",
    "#卷积层\n",
    "model.add(MaxPooling2D(pool_size=(2, 2),strides=(2,2), padding = 'same', data_format='channels_last',name = 'layer1_pool'))\n",
    "#最大池化层\n",
    "model.add(Dropout(0.25))\n",
    "#dropout防止过拟合\n",
    "model.add(Conv2D(64, (3, 3), activation='relu', padding='same', data_format='channels_last',name='layer2_con1'))\n",
    "model.add(Conv2D(64, (3, 3), activation='relu', padding='same', data_format='channels_last',name='layer2_con2'))\n",
    "model.add(MaxPooling2D(pool_size=(2, 2),strides=(2,2), padding = 'same', data_format='channels_last',name = 'layer2_pool'))\n",
    "#全连接层\n",
    "model.add(Flatten())\n",
    "model.add(Dense(128, activation='relu'))  #该全连接层共128个神经元\n",
    "model.add(Dropout(0.5))\n",
    "model.add(Dense(10, activation='softmax')) \n",
    "\n",
    "# define the object function, optimizer and metrics\n",
    "#jiaochashang/Adam\n",
    "model.compile(loss='categorical_crossentropy', optimizer='adam', metrics = ['accuracy'])"
   ]
  },
  {
   "cell_type": "markdown",
   "metadata": {},
   "source": [
    "Next, we can start to train and evaluate!"
   ]
  },
  {
   "cell_type": "code",
   "execution_count": 4,
   "metadata": {},
   "outputs": [
    {
     "name": "stdout",
     "output_type": "stream",
     "text": [
      "Epoch 1/10\n",
      "60000/60000 [==============================] - 205s 3ms/step - loss: 0.2646 - accuracy: 0.9169\n",
      "Epoch 2/10\n",
      "60000/60000 [==============================] - 164s 3ms/step - loss: 0.0842 - accuracy: 0.9757\n",
      "Epoch 3/10\n",
      "60000/60000 [==============================] - 114s 2ms/step - loss: 0.0588 - accuracy: 0.9827\n",
      "Epoch 4/10\n",
      "60000/60000 [==============================] - 114s 2ms/step - loss: 0.0491 - accuracy: 0.9862\n",
      "Epoch 5/10\n",
      "60000/60000 [==============================] - 113s 2ms/step - loss: 0.0387 - accuracy: 0.9884\n",
      "Epoch 6/10\n",
      "60000/60000 [==============================] - 114s 2ms/step - loss: 0.0332 - accuracy: 0.9896\n",
      "Epoch 7/10\n",
      "60000/60000 [==============================] - 114s 2ms/step - loss: 0.0304 - accuracy: 0.9907\n",
      "Epoch 8/10\n",
      "60000/60000 [==============================] - 114s 2ms/step - loss: 0.0276 - accuracy: 0.9915\n",
      "Epoch 9/10\n",
      "60000/60000 [==============================] - 114s 2ms/step - loss: 0.0238 - accuracy: 0.9928\n",
      "Epoch 10/10\n",
      "60000/60000 [==============================] - 114s 2ms/step - loss: 0.0245 - accuracy: 0.9926\n",
      "60000/60000 [==============================] - 27s 455us/step\n",
      "Training loss: 0.0070, Training accuracy: 99.80%\n",
      "10000/10000 [==============================] - 5s 453us/step\n",
      "Testing loss: 0.0202, Testing accuracy: 99.34%\n"
     ]
    }
   ],
   "source": [
    "# train\n",
    "#model.fit(x_train,y_train,epochs= NUM_EPOCHS,batch_size = BATCH_SIZE, validation_data = (x_test,y_test),verbose=5,shuffle=True)\n",
    "model.fit(x_train, y_train, epochs = NUM_EPOCHS, batch_size = BATCH_SIZE)\n",
    "\n",
    "# evaluate\n",
    "score_train = model.evaluate(x_train,y_train)\n",
    "print('Training loss: %.4f, Training accuracy: %.2f%%' % (score_train[0],score_train[1]*100))\n",
    "score_test = model.evaluate(x_test,y_test)\n",
    "print('Testing loss: %.4f, Testing accuracy: %.2f%%' % (score_test[0],score_test[1]*100))"
   ]
  },
  {
   "cell_type": "markdown",
   "metadata": {},
   "source": [
    "#### Q6:\n",
    "Please print the training and testing accuracy."
   ]
  },
  {
   "cell_type": "code",
   "execution_count": 5,
   "metadata": {},
   "outputs": [
    {
     "name": "stdout",
     "output_type": "stream",
     "text": [
      "Training loss: 0.0070, Training accuracy: 99.80%\n",
      "Testing loss: 0.0202, Testing accuracy: 99.34%\n"
     ]
    }
   ],
   "source": [
    "print('Training loss: %.4f, Training accuracy: %.2f%%' % (score_train[0],score_train[1]*100))\n",
    "print('Testing loss: %.4f, Testing accuracy: %.2f%%' % (score_test[0],score_test[1]*100))"
   ]
  },
  {
   "cell_type": "code",
   "execution_count": null,
   "metadata": {},
   "outputs": [],
   "source": []
  }
 ],
 "metadata": {
  "kernelspec": {
   "display_name": "Python 3",
   "language": "python",
   "name": "python3"
  },
  "language_info": {
   "codemirror_mode": {
    "name": "ipython",
    "version": 3
   },
   "file_extension": ".py",
   "mimetype": "text/x-python",
   "name": "python",
   "nbconvert_exporter": "python",
   "pygments_lexer": "ipython3",
   "version": "3.5.2"
  }
 },
 "nbformat": 4,
 "nbformat_minor": 2
}
